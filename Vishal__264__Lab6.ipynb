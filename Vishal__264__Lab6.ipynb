{
 "cells": [
  {
   "cell_type": "markdown",
   "metadata": {},
   "source": [
    "Q1. Write a program using the Regular Exception and create a function that accepts a string and searches it for a valid phone number.\n",
    "Return the phone number if found.\n",
    "A valid phone number may be one of the following:\n",
    "(xxx)-xxx-xxxx\n",
    "xxx-xxx-xxxx\n"
   ]
  },
  {
   "cell_type": "code",
   "execution_count": 7,
   "metadata": {},
   "outputs": [
    {
     "name": "stdout",
     "output_type": "stream",
     "text": [
      "my number is 7002518080\n",
      "7002518080\n"
     ]
    }
   ],
   "source": [
    "import re\n",
    "\n",
    "def validnumber(text):\n",
    "    pattern = r'\\d{10}'\n",
    "    phNo = re.findall(pattern, text)\n",
    "\n",
    "    if phNo:\n",
    "        return phNo[0]\n",
    "    else:\n",
    "        return \"No Valid phone number found\"\n",
    "    \n",
    "\n",
    "n = input(\"Enter a text to search for phone Number: \")\n",
    "print(n)\n",
    "result = validnumber(n)\n",
    "print(result)"
   ]
  },
  {
   "cell_type": "markdown",
   "metadata": {},
   "source": [
    "Q2. Write a function that employs regular expressions to ensure the password given to the function is strong.\n",
    "A strong password is defined as follows:\n",
    "·       at least eight characters long\n",
    "·       contains one uppercase character\n",
    "·       contains one lowercase character\n",
    "·       has at least one digit\n",
    "·       has at least one special character\n",
    "[For instance: Christ@123]\n"
   ]
  },
  {
   "cell_type": "code",
   "execution_count": 3,
   "metadata": {},
   "outputs": [
    {
     "name": "stdout",
     "output_type": "stream",
     "text": [
      "MyPass@34\n",
      "Password is strong.\n"
     ]
    }
   ],
   "source": [
    "import re\n",
    "\n",
    "def is_strong_password(password):\n",
    "    if len(password) < 8:\n",
    "        return False\n",
    "\n",
    "    if not re.search(r'[A-Z]', password):\n",
    "        return False\n",
    "\n",
    "    if not re.search(r'[a-z]', password):\n",
    "        return False\n",
    "\n",
    "    if not re.search(r'\\d', password):\n",
    "        return False\n",
    "\n",
    "    if not re.search(r'[!@#$%^&*()_+{}\\[\\]:;<>,.?\\\\\\/\\-]', password):\n",
    "        return False\n",
    "\n",
    "    return True\n",
    "password = input(\"Enter a password: \")\n",
    "print(password)\n",
    "   \n",
    "if is_strong_password(password):\n",
    "     print(\"Password is strong.\")\n",
    "else:\n",
    "   print(\"Password is not strong.\")\n"
   ]
  }
 ],
 "metadata": {
  "kernelspec": {
   "display_name": "Python 3",
   "language": "python",
   "name": "python3"
  },
  "language_info": {
   "codemirror_mode": {
    "name": "ipython",
    "version": 3
   },
   "file_extension": ".py",
   "mimetype": "text/x-python",
   "name": "python",
   "nbconvert_exporter": "python",
   "pygments_lexer": "ipython3",
   "version": "3.10.2"
  },
  "orig_nbformat": 4
 },
 "nbformat": 4,
 "nbformat_minor": 2
}
