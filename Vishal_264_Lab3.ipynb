{
 "cells": [
  {
   "cell_type": "markdown",
   "metadata": {},
   "source": [
    "1. Write a function in Python with a string such that it accepts a parameter- “stringsplit”. This encoded string will contain your name, domain name and register number. You can separate the values in the string by any number of underscores. [The string should not contain any other underscore symbols in your name, domain name and register number]. The function should return a Python dictionary with your name, domain name and register number."
   ]
  },
  {
   "cell_type": "code",
   "execution_count": 32,
   "metadata": {},
   "outputs": [
    {
     "name": "stdout",
     "output_type": "stream",
     "text": [
      "['Vishal', '', '', '', '', 'ExpenseTracker', '', '', '', '', '', '2347264']\n",
      "{'name': 'Vishal', 'domain': 'ExpenseTracker', 'registerNumber': '2347264'}\n"
     ]
    }
   ],
   "source": [
    "def getName(stringsplit):\n",
    "    words = stringsplit.split('_')\n",
    "    # print(words)\n",
    "    newWord=[]\n",
    "    for word in words:\n",
    "        if(word!=\"\"):\n",
    "            newWord.append(word)\n",
    "\n",
    "    if(len(newWord)!=3):\n",
    "        print(\"Enter only characters and underscore\")\n",
    "    result = {\n",
    "        \"name\": newWord[0],\n",
    "        \"domain\": newWord[1],\n",
    "        \"registerNumber\": newWord[2]\n",
    "    }\n",
    "    return result\n",
    "\n",
    "s = input(\"Enter your name, domain, rollnumber: \")\n",
    "out = getName(s)\n",
    "print(out)\n"
   ]
  }
 ],
 "metadata": {
  "kernelspec": {
   "display_name": "Python 3",
   "language": "python",
   "name": "python3"
  },
  "language_info": {
   "codemirror_mode": {
    "name": "ipython",
    "version": 3
   },
   "file_extension": ".py",
   "mimetype": "text/x-python",
   "name": "python",
   "nbconvert_exporter": "python",
   "pygments_lexer": "ipython3",
   "version": "3.10.2"
  },
  "orig_nbformat": 4
 },
 "nbformat": 4,
 "nbformat_minor": 2
}
