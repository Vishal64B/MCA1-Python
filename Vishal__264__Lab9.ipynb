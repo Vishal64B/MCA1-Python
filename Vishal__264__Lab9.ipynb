{
 "cells": [
  {
   "cell_type": "markdown",
   "metadata": {},
   "source": [
    "#### Q1. Write a program to distinguish between Array Indexing and Fancy Indexing."
   ]
  },
  {
   "cell_type": "code",
   "execution_count": 3,
   "metadata": {},
   "outputs": [
    {
     "name": "stdout",
     "output_type": "stream",
     "text": [
      "[1 2 3 4 5]\n",
      "Value at arr[2] = 3\n"
     ]
    }
   ],
   "source": [
    "## ARRAY INDEXING\n",
    "import numpy as np\n",
    "arr = np.array([1,2,3,4,5])\n",
    "print(arr)\n",
    "\n",
    "index = int(input(\"Enter an index\"))\n",
    "print(f'Value at arr[{index}] = {arr[index]}')\n"
   ]
  },
  {
   "cell_type": "code",
   "execution_count": 10,
   "metadata": {},
   "outputs": [
    {
     "name": "stdout",
     "output_type": "stream",
     "text": [
      "[1 2 3 4 5]\n",
      "Using Fancy Indexing:\n",
      "arr[0], arr[2], arr[3] : [1 3 4]\n"
     ]
    }
   ],
   "source": [
    "## FANCY INDEXING\n",
    "\n",
    "import numpy as np\n",
    "\n",
    "arr = np.array([1,2,3,4,5])\n",
    "print(arr)\n",
    "\n",
    "indexList = [0,2,3]\n",
    "\n",
    "print(f'Using Fancy Indexing:')\n",
    "print(f'arr[{indexList[0]}], arr[{indexList[1]}], arr[{indexList[2]}] : {arr[indexList]}')"
   ]
  },
  {
   "cell_type": "markdown",
   "metadata": {},
   "source": [
    "#### Q2. Execute the 2D array Slicing."
   ]
  },
  {
   "cell_type": "code",
   "execution_count": 14,
   "metadata": {},
   "outputs": [
    {
     "name": "stdout",
     "output_type": "stream",
     "text": [
      "[[6 3 9 7 2]\n",
      " [9 9 7 4 6]\n",
      " [4 7 6 3 8]\n",
      " [8 4 4 5 2]\n",
      " [4 5 6 3 6]]\n",
      "\n",
      "[9 9]\n",
      "\n",
      "[[3 9]\n",
      " [9 7]\n",
      " [7 6]]\n"
     ]
    }
   ],
   "source": [
    "import numpy as np\n",
    "\n",
    "arr = np.random.randint(1,10, (5,5))\n",
    "print(arr)\n",
    "print()\n",
    "print(arr[1,0:2])\n",
    "\n",
    "print()\n",
    "print(arr[0:3, 1:3])"
   ]
  },
  {
   "cell_type": "markdown",
   "metadata": {},
   "source": [
    "#### Q3. Create the 5-Dimensional arrays using ‘ndmin’."
   ]
  },
  {
   "cell_type": "code",
   "execution_count": 15,
   "metadata": {},
   "outputs": [
    {
     "name": "stdout",
     "output_type": "stream",
     "text": [
      "[[[[[1 2 3 4 5 6 7 8 4]]]]]\n",
      "Dimension of the array is: 5\n"
     ]
    }
   ],
   "source": [
    "import numpy as np\n",
    "\n",
    "arr = np.array([1,2,3,4,5,6,7,8,4], ndmin = 5)\n",
    "print(arr)\n",
    "\n",
    "print(f'Dimension of the array is: {arr.ndim}')"
   ]
  },
  {
   "cell_type": "markdown",
   "metadata": {},
   "source": [
    "Q4. Reshape the array from 1-D to 2-D array."
   ]
  },
  {
   "cell_type": "code",
   "execution_count": 17,
   "metadata": {},
   "outputs": [
    {
     "name": "stdout",
     "output_type": "stream",
     "text": [
      "[ 1 22 13 34 45  2]\n",
      "After Reshaping\n",
      "[[ 1 22]\n",
      " [13 34]\n",
      " [45  2]]\n"
     ]
    }
   ],
   "source": [
    "import numpy as np\n",
    "\n",
    "arr = np.array([1,22,13,34,45,2], ndmin=1)\n",
    "print(arr)\n",
    "print(\"After Reshaping\")\n",
    "newarr = arr.reshape(3,2)\n",
    "print(newarr)"
   ]
  },
  {
   "cell_type": "markdown",
   "metadata": {},
   "source": [
    "#### Q5. Perform the Stack functions in Numpy arrays – Stack(), hstack(), vstack(), and dstack()."
   ]
  },
  {
   "cell_type": "code",
   "execution_count": 19,
   "metadata": {},
   "outputs": [
    {
     "name": "stdout",
     "output_type": "stream",
     "text": [
      "[[10 50]\n",
      " [20 60]\n",
      " [30 70]]\n",
      "\n",
      "[[10 20 30]\n",
      " [50 60 70]]\n"
     ]
    }
   ],
   "source": [
    "### STACK() IMPLEMENTATION\n",
    "\n",
    "import numpy as np\n",
    "\n",
    "arr1 = np.array([10,20,30])\n",
    "arr2 = np.array([50,60,70])\n",
    "\n",
    "newarr1 = np.stack((arr1,arr2), axis = 1)\n",
    "newarr2 = np.stack((arr1,arr2), axis = 0)\n",
    "\n",
    "print(newarr1)\n",
    "print()\n",
    "print(newarr2)"
   ]
  },
  {
   "cell_type": "code",
   "execution_count": 20,
   "metadata": {},
   "outputs": [
    {
     "name": "stdout",
     "output_type": "stream",
     "text": [
      "[[10 20 30]\n",
      " [50 60 70]]\n"
     ]
    }
   ],
   "source": [
    "###  HSTACK()\n",
    "\n",
    "arr1 = np.array([10,20,30])\n",
    "arr2 = np.array([50,60,70])\n",
    "\n",
    "result = np.vstack((arr1,arr2))\n",
    "\n",
    "print(result)"
   ]
  },
  {
   "cell_type": "code",
   "execution_count": 21,
   "metadata": {},
   "outputs": [
    {
     "name": "stdout",
     "output_type": "stream",
     "text": [
      "[10 20 30 50 60 70]\n"
     ]
    }
   ],
   "source": [
    "###  hstack() Implementation\n",
    "\n",
    "arr1 = np.array([10,20,30])\n",
    "arr2 = np.array([50,60,70])\n",
    "\n",
    "res = np.hstack((arr1,arr2))\n",
    "print(res)"
   ]
  },
  {
   "cell_type": "code",
   "execution_count": 22,
   "metadata": {},
   "outputs": [
    {
     "name": "stdout",
     "output_type": "stream",
     "text": [
      "[[[10 50]\n",
      "  [20 60]\n",
      "  [30 70]]]\n"
     ]
    }
   ],
   "source": [
    "### dstack() Implementation\n",
    "\n",
    "arr1 = np.array([10,20,30])\n",
    "arr2 = np.array([50,60,70])\n",
    "\n",
    "res = np.dstack((arr1,arr2))\n",
    "print(res)"
   ]
  },
  {
   "cell_type": "markdown",
   "metadata": {},
   "source": [
    "#### Q6. Perform the searchsort method in Numpy array."
   ]
  },
  {
   "cell_type": "code",
   "execution_count": 25,
   "metadata": {},
   "outputs": [
    {
     "name": "stdout",
     "output_type": "stream",
     "text": [
      "[ 1  4  5  8  9 10 23]\n",
      "7 Can be inserted at index: 3\n"
     ]
    }
   ],
   "source": [
    "import numpy as np\n",
    "\n",
    "arr = np.array([1,4,5,8,9,10,23])\n",
    "print(arr)\n",
    "\n",
    "index = np.searchsorted(arr,7)\n",
    "\n",
    "print(f'7 Can be inserted at index: {index}')\n",
    "\n"
   ]
  },
  {
   "cell_type": "markdown",
   "metadata": {},
   "source": [
    "#### Q7. Create Numpy Structured array using your domain features."
   ]
  },
  {
   "cell_type": "code",
   "execution_count": 67,
   "metadata": {},
   "outputs": [
    {
     "name": "stdout",
     "output_type": "stream",
     "text": [
      "\t\t\tDaily Expense \n",
      "Expense of day 1 : \n",
      "\tMorning: 100\n",
      "\tAfternoon: 200\n",
      "\tEvening: 6000\n",
      "Expense of day 2 : \n",
      "\tMorning: 200\n",
      "\tAfternoon: 150\n",
      "\tEvening: 3000\n",
      "Expense of day 3 : \n",
      "\tMorning: 50\n",
      "\tAfternoon: 170\n",
      "\tEvening: 2500\n",
      "Expense of day 4 : \n",
      "\tMorning: 70\n",
      "\tAfternoon: 200\n",
      "\tEvening: 3500\n",
      "Expense of day 5 : \n",
      "\tMorning: 80\n",
      "\tAfternoon: 250\n",
      "\tEvening: 2200\n"
     ]
    }
   ],
   "source": [
    "import numpy as np\n",
    "\n",
    "expenses = np.array([\n",
    "    [100,200,6000],\n",
    "    [200,150,3000],\n",
    "    [50,170,2500],\n",
    "    [70,200,3500],\n",
    "    [80,250,2200],\n",
    "])\n",
    "print(\"\\t\\t\\tDaily Expense \")\n",
    "for i in range(len(expenses)):\n",
    "    \n",
    "    print(f\"Expense of day {i+1} : \")\n",
    "    print(f\"\\tMorning: {expenses[i][0]}\")\n",
    "    print(f\"\\tAfternoon: {expenses[i][1]}\")\n",
    "    print(f\"\\tEvening: {expenses[i][2]}\")\n",
    "\n",
    "\n"
   ]
  },
  {
   "cell_type": "markdown",
   "metadata": {},
   "source": [
    "#### Q8. Create Data frame using List and Dictionary."
   ]
  },
  {
   "cell_type": "code",
   "execution_count": 11,
   "metadata": {},
   "outputs": [
    {
     "name": "stdout",
     "output_type": "stream",
     "text": [
      "Lists:\n",
      "Description for the 1st 10 Events :  ['Open-architected bi-directional database', 'Multi-channeled regional portal', 'Customizable bi-directional array', 'Networked 5thgeneration Internet solution', 'Operative multimedia capability', 'Advanced secondary Local Area Network', 'Up-sized impactful monitoring', 'Future-proofed empowering alliance', 'Multi-lateral multimedia moratorium', 'Streamlined encompassing open system']\n",
      "Category Fee for the 1st 10 Events :  ['Dining Out', 'Housing', 'Housing', 'Housing', 'Housing', 'Transportation', 'Transportation', 'Housing', 'Transportation', 'Groceries']\n",
      "\n",
      "Dictionary:\n",
      "{'Description': 'Open-architected bi-directional database', 'Category': 'Dining Out', 'Amount': 1525.3}\n",
      "{'Description': 'Multi-channeled regional portal', 'Category': 'Housing', 'Amount': 9198.75}\n",
      "{'Description': 'Customizable bi-directional array', 'Category': 'Housing', 'Amount': 5525.0}\n",
      "{'Description': 'Networked 5thgeneration Internet solution', 'Category': 'Housing', 'Amount': 2096.87}\n",
      "{'Description': 'Operative multimedia capability', 'Category': 'Housing', 'Amount': 394.39}\n",
      "{'Description': 'Advanced secondary Local Area Network', 'Category': 'Transportation', 'Amount': 1305.97}\n",
      "{'Description': 'Up-sized impactful monitoring', 'Category': 'Transportation', 'Amount': 1939.54}\n",
      "{'Description': 'Future-proofed empowering alliance', 'Category': 'Housing', 'Amount': 1560.97}\n",
      "{'Description': 'Multi-lateral multimedia moratorium', 'Category': 'Transportation', 'Amount': 2774.11}\n",
      "{'Description': 'Streamlined encompassing open system', 'Category': 'Groceries', 'Amount': 2074.93}\n"
     ]
    }
   ],
   "source": [
    "import pandas as pd\n",
    "\n",
    "df = pd.read_csv(\"personal_expense_data.csv\")\n",
    "\n",
    "print(\"Lists:\")\n",
    "print(\"Description for the 1st 10 Events : \", list(df[\"Description\"][:10]))\n",
    "print(\"Category Fee for the 1st 10 Events : \", list(df[\"Category\"][:10]))\n",
    "\n",
    "print(\"\\nDictionary:\")\n",
    "for index, row in df.head(10).iterrows():\n",
    "    data_dict = {\n",
    "        \"Description\": row[\"Description\"],\n",
    "        \"Category\": row[\"Category\"],\n",
    "        \"Amount\": row[\"Amount\"],\n",
    "        \n",
    "    }\n",
    "    print(data_dict)\n"
   ]
  },
  {
   "cell_type": "markdown",
   "metadata": {},
   "source": [
    "#### Q9. Create Data frame on your Domain area and perform the following operations to find and eliminate the missing data from the dataset.\n",
    "• isnull()\n",
    "• notnull()\n",
    "• dropna()\n",
    "• fillna()\n",
    "• replace()\n",
    "• interpolate()"
   ]
  },
  {
   "cell_type": "code",
   "execution_count": 26,
   "metadata": {},
   "outputs": [
    {
     "name": "stdout",
     "output_type": "stream",
     "text": [
      "\n",
      "Checking for missing data using isnull():\n",
      "      Date  Description  Category  Amount  Expense Type  Payment Method  \\\n",
      "0    False        False     False   False         False           False   \n",
      "1    False        False     False   False         False           False   \n",
      "2    False        False     False   False         False           False   \n",
      "3    False        False     False   False         False           False   \n",
      "4    False        False     False   False         False           False   \n",
      "..     ...          ...       ...     ...           ...             ...   \n",
      "245  False        False     False   False         False           False   \n",
      "246  False        False     False   False         False           False   \n",
      "247  False        False     False   False         False           False   \n",
      "248  False        False     False   False         False           False   \n",
      "249  False        False     False   False         False           False   \n",
      "\n",
      "     Payment Status  Account/Bank  Tags/Labels  Notes  \n",
      "0             False         False        False  False  \n",
      "1             False         False        False  False  \n",
      "2             False         False        False  False  \n",
      "3             False         False        False  False  \n",
      "4             False         False        False  False  \n",
      "..              ...           ...          ...    ...  \n",
      "245           False         False        False  False  \n",
      "246           False         False        False  False  \n",
      "247           False         False        False  False  \n",
      "248           False         False        False  False  \n",
      "249           False         False        False  False  \n",
      "\n",
      "[250 rows x 10 columns]\n"
     ]
    }
   ],
   "source": [
    "### isnull()\n",
    " \n",
    "import pandas as pd\n",
    "import numpy as np\n",
    "\n",
    "\n",
    "df = pd.read_csv(\"personal_expense_data.csv\")\n",
    "\n",
    "# print(\"Original DataFrame:\")\n",
    "# print(df)\n",
    "\n",
    "\n",
    "print(\"\\nChecking for missing data using isnull():\")\n",
    "print(df.isnull())"
   ]
  },
  {
   "cell_type": "code",
   "execution_count": 29,
   "metadata": {},
   "outputs": [
    {
     "name": "stdout",
     "output_type": "stream",
     "text": [
      "\n",
      "Checking for non-missing data using notnull():\n",
      "     Date  Description  Category  Amount  Expense Type  Payment Method  \\\n",
      "0    True         True      True    True          True            True   \n",
      "1    True         True      True    True          True            True   \n",
      "2    True         True      True    True          True            True   \n",
      "3    True         True      True    True          True            True   \n",
      "4    True         True      True    True          True            True   \n",
      "..    ...          ...       ...     ...           ...             ...   \n",
      "245  True         True      True    True          True            True   \n",
      "246  True         True      True    True          True            True   \n",
      "247  True         True      True    True          True            True   \n",
      "248  True         True      True    True          True            True   \n",
      "249  True         True      True    True          True            True   \n",
      "\n",
      "     Payment Status  Account/Bank  Tags/Labels  Notes  \n",
      "0              True          True         True   True  \n",
      "1              True          True         True   True  \n",
      "2              True          True         True   True  \n",
      "3              True          True         True   True  \n",
      "4              True          True         True   True  \n",
      "..              ...           ...          ...    ...  \n",
      "245            True          True         True   True  \n",
      "246            True          True         True   True  \n",
      "247            True          True         True   True  \n",
      "248            True          True         True   True  \n",
      "249            True          True         True   True  \n",
      "\n",
      "[250 rows x 10 columns]\n"
     ]
    }
   ],
   "source": [
    "## notnull()\n",
    "print(\"\\nChecking for non-missing data using notnull():\")\n",
    "print(df.notnull())"
   ]
  },
  {
   "cell_type": "code",
   "execution_count": 28,
   "metadata": {},
   "outputs": [
    {
     "name": "stdout",
     "output_type": "stream",
     "text": [
      "\n",
      "Dropping rows with missing data using dropna():\n",
      "           Date                                Description        Category  \\\n",
      "0    2022-09-23   Open-architected bi-directional database      Dining Out   \n",
      "1    2023-01-21            Multi-channeled regional portal         Housing   \n",
      "2    2023-03-17          Customizable bi-directional array         Housing   \n",
      "3    2022-10-29  Networked 5thgeneration Internet solution         Housing   \n",
      "4    2023-01-01            Operative multimedia capability         Housing   \n",
      "..          ...                                        ...             ...   \n",
      "245  2022-12-14          Switchable user-facing moratorium  Transportation   \n",
      "246  2022-12-27         Function-based tangible moratorium         Housing   \n",
      "247  2023-01-17                Versatile mobile capability  Transportation   \n",
      "248  2022-09-28          Triple-buffered coherent leverage       Groceries   \n",
      "249  2023-06-09      Universal non-volatile knowledge user      Dining Out   \n",
      "\n",
      "      Amount Expense Type Payment Method Payment Status     Account/Bank  \\\n",
      "0    1525.30      Expense    Credit Card           Paid       Chase Bank   \n",
      "1    9198.75       Income  Bank Transfer        Overdue       Chase Bank   \n",
      "2    5525.00       Income           Cash        Pending       Chase Bank   \n",
      "3    2096.87      Expense     Debit Card           Paid      Wells Fargo   \n",
      "4     394.39      Expense     Debit Card           Paid  Bank of America   \n",
      "..       ...          ...            ...            ...              ...   \n",
      "245  9134.36       Income           Cash        Overdue  Bank of America   \n",
      "246  1081.73      Expense     Debit Card        Overdue       Chase Bank   \n",
      "247  8951.91       Income  Bank Transfer           Paid      Wells Fargo   \n",
      "248  4070.24       Income  Bank Transfer        Overdue       Chase Bank   \n",
      "249  5507.52       Income    Credit Card        Pending        Citi Bank   \n",
      "\n",
      "     Tags/Labels                                              Notes  \n",
      "0       resource  Political white contain level maintain most size.  \n",
      "1           will           Agreement along foreign rule lot always.  \n",
      "2           high                       Cover pressure dream detail.  \n",
      "3        another                                  Contain ok eight.  \n",
      "4         itself                               Account wife really.  \n",
      "..           ...                                                ...  \n",
      "245       ground           Trouble computer now establish actually.  \n",
      "246          and        What quite evening candidate build surface.  \n",
      "247      quality       Measure high spring tonight strategy should.  \n",
      "248         yard                              Way far recent avoid.  \n",
      "249  environment  Remember interest small recent still director ...  \n",
      "\n",
      "[250 rows x 10 columns]\n"
     ]
    }
   ],
   "source": [
    "# dropna()\n",
    "print(\"\\nDropping rows with missing data using dropna():\")\n",
    "df_dropna = df.dropna()\n",
    "print(df_dropna)"
   ]
  },
  {
   "cell_type": "code",
   "execution_count": 31,
   "metadata": {},
   "outputs": [
    {
     "name": "stdout",
     "output_type": "stream",
     "text": [
      "\n",
      "Filling missing data using fillna():\n",
      "           Date                                Description        Category  \\\n",
      "0    2022-09-23   Open-architected bi-directional database      Dining Out   \n",
      "1    2023-01-21            Multi-channeled regional portal         Housing   \n",
      "2    2023-03-17          Customizable bi-directional array         Housing   \n",
      "3    2022-10-29  Networked 5thgeneration Internet solution         Housing   \n",
      "4    2023-01-01            Operative multimedia capability         Housing   \n",
      "..          ...                                        ...             ...   \n",
      "245  2022-12-14          Switchable user-facing moratorium  Transportation   \n",
      "246  2022-12-27         Function-based tangible moratorium         Housing   \n",
      "247  2023-01-17                Versatile mobile capability  Transportation   \n",
      "248  2022-09-28          Triple-buffered coherent leverage       Groceries   \n",
      "249  2023-06-09      Universal non-volatile knowledge user      Dining Out   \n",
      "\n",
      "      Amount Expense Type Payment Method Payment Status     Account/Bank  \\\n",
      "0    1525.30      Expense    Credit Card           Paid       Chase Bank   \n",
      "1    9198.75       Income  Bank Transfer        Overdue       Chase Bank   \n",
      "2    5525.00       Income           Cash        Pending       Chase Bank   \n",
      "3    2096.87      Expense     Debit Card           Paid      Wells Fargo   \n",
      "4     394.39      Expense     Debit Card           Paid  Bank of America   \n",
      "..       ...          ...            ...            ...              ...   \n",
      "245  9134.36       Income           Cash        Overdue  Bank of America   \n",
      "246  1081.73      Expense     Debit Card        Overdue       Chase Bank   \n",
      "247  8951.91       Income  Bank Transfer           Paid      Wells Fargo   \n",
      "248  4070.24       Income  Bank Transfer        Overdue       Chase Bank   \n",
      "249  5507.52       Income    Credit Card        Pending        Citi Bank   \n",
      "\n",
      "     Tags/Labels                                              Notes  \n",
      "0       resource  Political white contain level maintain most size.  \n",
      "1           will           Agreement along foreign rule lot always.  \n",
      "2           high                       Cover pressure dream detail.  \n",
      "3        another                                  Contain ok eight.  \n",
      "4         itself                               Account wife really.  \n",
      "..           ...                                                ...  \n",
      "245       ground           Trouble computer now establish actually.  \n",
      "246          and        What quite evening candidate build surface.  \n",
      "247      quality       Measure high spring tonight strategy should.  \n",
      "248         yard                              Way far recent avoid.  \n",
      "249  environment  Remember interest small recent still director ...  \n",
      "\n",
      "[250 rows x 10 columns]\n"
     ]
    }
   ],
   "source": [
    "# fillna()\n",
    "print(\"\\nFilling missing data using fillna():\")\n",
    "df_fillna = df.fillna(0)  \n",
    "print(df_fillna)"
   ]
  },
  {
   "cell_type": "code",
   "execution_count": 32,
   "metadata": {},
   "outputs": [
    {
     "name": "stdout",
     "output_type": "stream",
     "text": [
      "\n",
      "Replacing missing data using replace():\n",
      "           Date                                Description        Category  \\\n",
      "0    2022-09-23   Open-architected bi-directional database      Dining Out   \n",
      "1    2023-01-21            Multi-channeled regional portal         Housing   \n",
      "2    2023-03-17          Customizable bi-directional array         Housing   \n",
      "3    2022-10-29  Networked 5thgeneration Internet solution         Housing   \n",
      "4    2023-01-01            Operative multimedia capability         Housing   \n",
      "..          ...                                        ...             ...   \n",
      "245  2022-12-14          Switchable user-facing moratorium  Transportation   \n",
      "246  2022-12-27         Function-based tangible moratorium         Housing   \n",
      "247  2023-01-17                Versatile mobile capability  Transportation   \n",
      "248  2022-09-28          Triple-buffered coherent leverage       Groceries   \n",
      "249  2023-06-09      Universal non-volatile knowledge user      Dining Out   \n",
      "\n",
      "      Amount Expense Type Payment Method Payment Status     Account/Bank  \\\n",
      "0    1525.30      Expense    Credit Card           Paid       Chase Bank   \n",
      "1    9198.75       Income  Bank Transfer        Overdue       Chase Bank   \n",
      "2    5525.00       Income           Cash        Pending       Chase Bank   \n",
      "3    2096.87      Expense     Debit Card           Paid      Wells Fargo   \n",
      "4     394.39      Expense     Debit Card           Paid  Bank of America   \n",
      "..       ...          ...            ...            ...              ...   \n",
      "245  9134.36       Income           Cash        Overdue  Bank of America   \n",
      "246  1081.73      Expense     Debit Card        Overdue       Chase Bank   \n",
      "247  8951.91       Income  Bank Transfer           Paid      Wells Fargo   \n",
      "248  4070.24       Income  Bank Transfer        Overdue       Chase Bank   \n",
      "249  5507.52       Income    Credit Card        Pending        Citi Bank   \n",
      "\n",
      "     Tags/Labels                                              Notes  \n",
      "0       resource  Political white contain level maintain most size.  \n",
      "1           will           Agreement along foreign rule lot always.  \n",
      "2           high                       Cover pressure dream detail.  \n",
      "3        another                                  Contain ok eight.  \n",
      "4         itself                               Account wife really.  \n",
      "..           ...                                                ...  \n",
      "245       ground           Trouble computer now establish actually.  \n",
      "246          and        What quite evening candidate build surface.  \n",
      "247      quality       Measure high spring tonight strategy should.  \n",
      "248         yard                              Way far recent avoid.  \n",
      "249  environment  Remember interest small recent still director ...  \n",
      "\n",
      "[250 rows x 10 columns]\n"
     ]
    }
   ],
   "source": [
    "#  replace()\n",
    "print(\"\\nReplacing missing data using replace():\")\n",
    "df_replace = df.replace(np.nan, -1)  \n",
    "print(df_replace)"
   ]
  },
  {
   "cell_type": "code",
   "execution_count": 33,
   "metadata": {},
   "outputs": [
    {
     "name": "stdout",
     "output_type": "stream",
     "text": [
      "\n",
      "Interpolating missing data using interpolate():\n",
      "           Date                                Description        Category  \\\n",
      "0    2022-09-23   Open-architected bi-directional database      Dining Out   \n",
      "1    2023-01-21            Multi-channeled regional portal         Housing   \n",
      "2    2023-03-17          Customizable bi-directional array         Housing   \n",
      "3    2022-10-29  Networked 5thgeneration Internet solution         Housing   \n",
      "4    2023-01-01            Operative multimedia capability         Housing   \n",
      "..          ...                                        ...             ...   \n",
      "245  2022-12-14          Switchable user-facing moratorium  Transportation   \n",
      "246  2022-12-27         Function-based tangible moratorium         Housing   \n",
      "247  2023-01-17                Versatile mobile capability  Transportation   \n",
      "248  2022-09-28          Triple-buffered coherent leverage       Groceries   \n",
      "249  2023-06-09      Universal non-volatile knowledge user      Dining Out   \n",
      "\n",
      "      Amount Expense Type Payment Method Payment Status     Account/Bank  \\\n",
      "0    1525.30      Expense    Credit Card           Paid       Chase Bank   \n",
      "1    9198.75       Income  Bank Transfer        Overdue       Chase Bank   \n",
      "2    5525.00       Income           Cash        Pending       Chase Bank   \n",
      "3    2096.87      Expense     Debit Card           Paid      Wells Fargo   \n",
      "4     394.39      Expense     Debit Card           Paid  Bank of America   \n",
      "..       ...          ...            ...            ...              ...   \n",
      "245  9134.36       Income           Cash        Overdue  Bank of America   \n",
      "246  1081.73      Expense     Debit Card        Overdue       Chase Bank   \n",
      "247  8951.91       Income  Bank Transfer           Paid      Wells Fargo   \n",
      "248  4070.24       Income  Bank Transfer        Overdue       Chase Bank   \n",
      "249  5507.52       Income    Credit Card        Pending        Citi Bank   \n",
      "\n",
      "     Tags/Labels                                              Notes  \n",
      "0       resource  Political white contain level maintain most size.  \n",
      "1           will           Agreement along foreign rule lot always.  \n",
      "2           high                       Cover pressure dream detail.  \n",
      "3        another                                  Contain ok eight.  \n",
      "4         itself                               Account wife really.  \n",
      "..           ...                                                ...  \n",
      "245       ground           Trouble computer now establish actually.  \n",
      "246          and        What quite evening candidate build surface.  \n",
      "247      quality       Measure high spring tonight strategy should.  \n",
      "248         yard                              Way far recent avoid.  \n",
      "249  environment  Remember interest small recent still director ...  \n",
      "\n",
      "[250 rows x 10 columns]\n"
     ]
    },
    {
     "name": "stderr",
     "output_type": "stream",
     "text": [
      "C:\\Users\\super\\AppData\\Local\\Temp\\ipykernel_24872\\4227306499.py:3: FutureWarning: DataFrame.interpolate with object dtype is deprecated and will raise in a future version. Call obj.infer_objects(copy=False) before interpolating instead.\n",
      "  df_interpolate = df.interpolate()\n"
     ]
    }
   ],
   "source": [
    "# interpolate()\n",
    "print(\"\\nInterpolating missing data using interpolate():\")\n",
    "df_interpolate = df.interpolate()\n",
    "print(df_interpolate)"
   ]
  },
  {
   "cell_type": "markdown",
   "metadata": {},
   "source": [
    "#### Q10. Perform the Hierarchical Indexing in the above created dataset."
   ]
  },
  {
   "cell_type": "code",
   "execution_count": 24,
   "metadata": {},
   "outputs": [
    {
     "name": "stdout",
     "output_type": "stream",
     "text": [
      "DataFrame with Hierarchical Indexing:\n",
      "                                                                Date   Amount  \\\n",
      "Description                               Category                              \n",
      "Open-architected bi-directional database  Dining Out      2022-09-23  1525.30   \n",
      "Multi-channeled regional portal           Housing         2023-01-21  9198.75   \n",
      "Customizable bi-directional array         Housing         2023-03-17  5525.00   \n",
      "Networked 5thgeneration Internet solution Housing         2022-10-29  2096.87   \n",
      "Operative multimedia capability           Housing         2023-01-01   394.39   \n",
      "...                                                              ...      ...   \n",
      "Switchable user-facing moratorium         Transportation  2022-12-14  9134.36   \n",
      "Function-based tangible moratorium        Housing         2022-12-27  1081.73   \n",
      "Versatile mobile capability               Transportation  2023-01-17  8951.91   \n",
      "Triple-buffered coherent leverage         Groceries       2022-09-28  4070.24   \n",
      "Universal non-volatile knowledge user     Dining Out      2023-06-09  5507.52   \n",
      "\n",
      "                                                         Expense Type  \\\n",
      "Description                               Category                      \n",
      "Open-architected bi-directional database  Dining Out          Expense   \n",
      "Multi-channeled regional portal           Housing              Income   \n",
      "Customizable bi-directional array         Housing              Income   \n",
      "Networked 5thgeneration Internet solution Housing             Expense   \n",
      "Operative multimedia capability           Housing             Expense   \n",
      "...                                                               ...   \n",
      "Switchable user-facing moratorium         Transportation       Income   \n",
      "Function-based tangible moratorium        Housing             Expense   \n",
      "Versatile mobile capability               Transportation       Income   \n",
      "Triple-buffered coherent leverage         Groceries            Income   \n",
      "Universal non-volatile knowledge user     Dining Out           Income   \n",
      "\n",
      "                                                         Payment Method  \\\n",
      "Description                               Category                        \n",
      "Open-architected bi-directional database  Dining Out        Credit Card   \n",
      "Multi-channeled regional portal           Housing         Bank Transfer   \n",
      "Customizable bi-directional array         Housing                  Cash   \n",
      "Networked 5thgeneration Internet solution Housing            Debit Card   \n",
      "Operative multimedia capability           Housing            Debit Card   \n",
      "...                                                                 ...   \n",
      "Switchable user-facing moratorium         Transportation           Cash   \n",
      "Function-based tangible moratorium        Housing            Debit Card   \n",
      "Versatile mobile capability               Transportation  Bank Transfer   \n",
      "Triple-buffered coherent leverage         Groceries       Bank Transfer   \n",
      "Universal non-volatile knowledge user     Dining Out        Credit Card   \n",
      "\n",
      "                                                         Payment Status  \\\n",
      "Description                               Category                        \n",
      "Open-architected bi-directional database  Dining Out               Paid   \n",
      "Multi-channeled regional portal           Housing               Overdue   \n",
      "Customizable bi-directional array         Housing               Pending   \n",
      "Networked 5thgeneration Internet solution Housing                  Paid   \n",
      "Operative multimedia capability           Housing                  Paid   \n",
      "...                                                                 ...   \n",
      "Switchable user-facing moratorium         Transportation        Overdue   \n",
      "Function-based tangible moratorium        Housing               Overdue   \n",
      "Versatile mobile capability               Transportation           Paid   \n",
      "Triple-buffered coherent leverage         Groceries             Overdue   \n",
      "Universal non-volatile knowledge user     Dining Out            Pending   \n",
      "\n",
      "                                                             Account/Bank  \\\n",
      "Description                               Category                          \n",
      "Open-architected bi-directional database  Dining Out           Chase Bank   \n",
      "Multi-channeled regional portal           Housing              Chase Bank   \n",
      "Customizable bi-directional array         Housing              Chase Bank   \n",
      "Networked 5thgeneration Internet solution Housing             Wells Fargo   \n",
      "Operative multimedia capability           Housing         Bank of America   \n",
      "...                                                                   ...   \n",
      "Switchable user-facing moratorium         Transportation  Bank of America   \n",
      "Function-based tangible moratorium        Housing              Chase Bank   \n",
      "Versatile mobile capability               Transportation      Wells Fargo   \n",
      "Triple-buffered coherent leverage         Groceries            Chase Bank   \n",
      "Universal non-volatile knowledge user     Dining Out            Citi Bank   \n",
      "\n",
      "                                                          Tags/Labels  \\\n",
      "Description                               Category                      \n",
      "Open-architected bi-directional database  Dining Out         resource   \n",
      "Multi-channeled regional portal           Housing                will   \n",
      "Customizable bi-directional array         Housing                high   \n",
      "Networked 5thgeneration Internet solution Housing             another   \n",
      "Operative multimedia capability           Housing              itself   \n",
      "...                                                               ...   \n",
      "Switchable user-facing moratorium         Transportation       ground   \n",
      "Function-based tangible moratorium        Housing                 and   \n",
      "Versatile mobile capability               Transportation      quality   \n",
      "Triple-buffered coherent leverage         Groceries              yard   \n",
      "Universal non-volatile knowledge user     Dining Out      environment   \n",
      "\n",
      "                                                                                                      Notes  \n",
      "Description                               Category                                                           \n",
      "Open-architected bi-directional database  Dining Out      Political white contain level maintain most size.  \n",
      "Multi-channeled regional portal           Housing                  Agreement along foreign rule lot always.  \n",
      "Customizable bi-directional array         Housing                              Cover pressure dream detail.  \n",
      "Networked 5thgeneration Internet solution Housing                                         Contain ok eight.  \n",
      "Operative multimedia capability           Housing                                      Account wife really.  \n",
      "...                                                                                                     ...  \n",
      "Switchable user-facing moratorium         Transportation           Trouble computer now establish actually.  \n",
      "Function-based tangible moratorium        Housing               What quite evening candidate build surface.  \n",
      "Versatile mobile capability               Transportation       Measure high spring tonight strategy should.  \n",
      "Triple-buffered coherent leverage         Groceries                                   Way far recent avoid.  \n",
      "Universal non-volatile knowledge user     Dining Out      Remember interest small recent still director ...  \n",
      "\n",
      "[250 rows x 8 columns]\n"
     ]
    }
   ],
   "source": [
    "import pandas as pd\n",
    "\n",
    "df = pd.read_csv(\"personal_expense_data.csv\")\n",
    "\n",
    "# Set hierarchical indexing\n",
    "df.set_index(['Description', 'Category'], inplace=True)\n",
    "\n",
    "# # Display the DataFrame with hierarchical indexing\n",
    "print(\"DataFrame with Hierarchical Indexing:\")\n",
    "print(df)"
   ]
  }
 ],
 "metadata": {
  "kernelspec": {
   "display_name": "Python 3",
   "language": "python",
   "name": "python3"
  },
  "language_info": {
   "codemirror_mode": {
    "name": "ipython",
    "version": 3
   },
   "file_extension": ".py",
   "mimetype": "text/x-python",
   "name": "python",
   "nbconvert_exporter": "python",
   "pygments_lexer": "ipython3",
   "version": "3.10.2"
  },
  "orig_nbformat": 4
 },
 "nbformat": 4,
 "nbformat_minor": 2
}
