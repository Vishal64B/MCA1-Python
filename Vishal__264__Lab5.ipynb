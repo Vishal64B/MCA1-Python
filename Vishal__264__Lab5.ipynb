{
 "cells": [
  {
   "cell_type": "markdown",
   "metadata": {},
   "source": [
    "Q1. Write a program to handle the exception of ZeroDivisionError.\n"
   ]
  },
  {
   "cell_type": "code",
   "execution_count": 8,
   "metadata": {},
   "outputs": [
    {
     "name": "stdout",
     "output_type": "stream",
     "text": [
      "Division of two numbers.\n",
      "Division Result = 1.2\n",
      "Division Operation Completed\n"
     ]
    }
   ],
   "source": [
    "print(\"Division of two numbers.\")\n",
    "a = int(input(\"Enter the 1st number : \"))\n",
    "b = int(input(\"Enter the 2nd number : \"))\n",
    "\n",
    "try :\n",
    "    print(f'Division Result = {a/b}')\n",
    "\n",
    "\n",
    "except ZeroDivisionError:\n",
    "        print(\"Enter a valid divisor\")\n",
    "\n",
    "finally:\n",
    "      print(\"Division Operation Completed\")"
   ]
  },
  {
   "cell_type": "markdown",
   "metadata": {},
   "source": [
    "Q2. Write a program to handle the exception of IndexError."
   ]
  },
  {
   "cell_type": "code",
   "execution_count": 7,
   "metadata": {},
   "outputs": [
    {
     "name": "stdout",
     "output_type": "stream",
     "text": [
      "[1, 4, 32, 31, 33, 3]\n"
     ]
    },
    {
     "ename": "Exception",
     "evalue": "There is no negative indexing in list",
     "output_type": "error",
     "traceback": [
      "\u001b[1;31m---------------------------------------------------------------------------\u001b[0m",
      "\u001b[1;31mException\u001b[0m                                 Traceback (most recent call last)",
      "Cell \u001b[1;32mIn[7], line 8\u001b[0m\n\u001b[0;32m      5\u001b[0m n \u001b[39m=\u001b[39m \u001b[39mint\u001b[39m(\u001b[39minput\u001b[39m(\u001b[39m\"\u001b[39m\u001b[39mEnter the index of the element you want to access: \u001b[39m\u001b[39m\"\u001b[39m))\n\u001b[0;32m      7\u001b[0m \u001b[39mif\u001b[39;00m n \u001b[39m<\u001b[39m \u001b[39m-\u001b[39msize:\n\u001b[1;32m----> 8\u001b[0m         \u001b[39mraise\u001b[39;00m \u001b[39mException\u001b[39;00m(\u001b[39m\"\u001b[39m\u001b[39mThere is no negative indexing in list\u001b[39m\u001b[39m\"\u001b[39m)\n\u001b[0;32m      9\u001b[0m \u001b[39mtry\u001b[39;00m:\n\u001b[0;32m     10\u001b[0m     \u001b[39mprint\u001b[39m(\u001b[39mlist\u001b[39m[n])\n",
      "\u001b[1;31mException\u001b[0m: There is no negative indexing in list"
     ]
    }
   ],
   "source": [
    "list = [1,4,32,31,33,3]\n",
    "size = len(list)\n",
    "\n",
    "print(list)\n",
    "n = int(input(\"Enter the index of the element you want to access: \"))\n",
    "\n",
    "if n < -size:\n",
    "        raise Exception(\"There is no negative indexing in list\")\n",
    "try:\n",
    "    print(list[n])\n",
    "    \n",
    "except IndexError:\n",
    "    print(\"!!!!!Element not found. Enter a valid index \")\n",
    "\n"
   ]
  }
 ],
 "metadata": {
  "kernelspec": {
   "display_name": "Python 3",
   "language": "python",
   "name": "python3"
  },
  "language_info": {
   "codemirror_mode": {
    "name": "ipython",
    "version": 3
   },
   "file_extension": ".py",
   "mimetype": "text/x-python",
   "name": "python",
   "nbconvert_exporter": "python",
   "pygments_lexer": "ipython3",
   "version": "3.10.2"
  },
  "orig_nbformat": 4
 },
 "nbformat": 4,
 "nbformat_minor": 2
}
