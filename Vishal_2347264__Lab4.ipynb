{
 "cells": [
  {
   "cell_type": "markdown",
   "metadata": {},
   "source": [
    "Write a Python program to implement the object-oriented concepts of multiple, Multilevel and Hierarchical Inheritances using your domain applications.\n"
   ]
  },
  {
   "cell_type": "markdown",
   "metadata": {},
   "source": [
    "Implementing  Multiple Inheritance"
   ]
  },
  {
   "cell_type": "code",
   "execution_count": 6,
   "metadata": {},
   "outputs": [
    {
     "name": "stdout",
     "output_type": "stream",
     "text": [
      "Expense: Groceries\tAmount: 100.00\n",
      "Category: Food\n"
     ]
    }
   ],
   "source": [
    "class Expense:\n",
    "    def __init__(self, amount, description):\n",
    "        self.amount = amount\n",
    "        self.description = description\n",
    "\n",
    "    def display(self):\n",
    "        print(f\"Expense: {self.description}\\tAmount: {self.amount:.2f}\")\n",
    "\n",
    "\n",
    "class Category:\n",
    "    def __init__(self, name):\n",
    "        self.name = name\n",
    "\n",
    "    def display_category(self):\n",
    "        print(f\"Category: {self.name}\")\n",
    "\n",
    "\n",
    "class CategorizedExpense(Expense, Category):\n",
    "    def __init__(self, amount, description, category):\n",
    "        Expense.__init__(self, amount, description)\n",
    "        Category.__init__(self, category)\n",
    "\n",
    "\n",
    "categorized_expense = CategorizedExpense(100, \"Groceries\", \"Food\")\n",
    "\n",
    "categorized_expense.display()\n",
    "categorized_expense.display_category()\n"
   ]
  },
  {
   "cell_type": "markdown",
   "metadata": {},
   "source": [
    "Multilevel Inheritance"
   ]
  },
  {
   "cell_type": "code",
   "execution_count": 7,
   "metadata": {},
   "outputs": [
    {
     "name": "stdout",
     "output_type": "stream",
     "text": [
      "Expense: Groceries\tAmount: $100.00\n",
      "Category: Food\n"
     ]
    }
   ],
   "source": [
    "class Expense:\n",
    "    def __init__(self, amount, description):\n",
    "        self.amount = amount\n",
    "        self.description = description\n",
    "\n",
    "    def display(self):\n",
    "        print(f\"Expense: {self.description}\\tAmount: ${self.amount:.2f}\")\n",
    "\n",
    "\n",
    "class Category(Expense):\n",
    "    def __init__(self, amount, description, category):\n",
    "        super().__init__(amount, description)\n",
    "        self.category = category\n",
    "\n",
    "    def display_category(self):\n",
    "        print(f\"Category: {self.category}\")\n",
    "\n",
    "\n",
    "class CategorizedExpense(Category):\n",
    "    def __init__(self, amount, description, category):\n",
    "        super().__init__(amount, description, category)\n",
    "\n",
    "\n",
    "categorized_expense = CategorizedExpense(100, \"Groceries\", \"Food\")\n",
    "\n",
    "# Displaying categorized expense\n",
    "categorized_expense.display()\n",
    "categorized_expense.display_category()\n"
   ]
  }
 ],
 "metadata": {
  "kernelspec": {
   "display_name": "Python 3",
   "language": "python",
   "name": "python3"
  },
  "language_info": {
   "codemirror_mode": {
    "name": "ipython",
    "version": 3
   },
   "file_extension": ".py",
   "mimetype": "text/x-python",
   "name": "python",
   "nbconvert_exporter": "python",
   "pygments_lexer": "ipython3",
   "version": "3.10.2"
  },
  "orig_nbformat": 4
 },
 "nbformat": 4,
 "nbformat_minor": 2
}
