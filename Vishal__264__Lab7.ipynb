{
 "cells": [
  {
   "cell_type": "markdown",
   "metadata": {},
   "source": [
    "1. Create two 3×3 matrices using the random function in Numpy and perform the following operations"
   ]
  },
  {
   "cell_type": "markdown",
   "metadata": {},
   "source": [
    "Product"
   ]
  },
  {
   "cell_type": "code",
   "execution_count": 17,
   "metadata": {},
   "outputs": [
    {
     "name": "stdout",
     "output_type": "stream",
     "text": [
      "[[6 4 4]\n",
      " [2 4 3]\n",
      " [3 2 9]]\n",
      "[[1 8 3]\n",
      " [7 6 9]\n",
      " [4 6 2]]\n",
      "Product of the matrix1 is :  124416\n"
     ]
    }
   ],
   "source": [
    "import numpy as np\n",
    "\n",
    "x =  np.random.randint(1,10,(3,3))\n",
    "y = np.random.randint(1, 10, (3,3))\n",
    "print(x)\n",
    "print(y)\n",
    "\n",
    "product = np.prod(x)\n",
    "print(\"Product of the matrix1 is : \",product)\n"
   ]
  },
  {
   "cell_type": "markdown",
   "metadata": {},
   "source": [
    "Multiplication"
   ]
  },
  {
   "cell_type": "code",
   "execution_count": 19,
   "metadata": {},
   "outputs": [
    {
     "name": "stdout",
     "output_type": "stream",
     "text": [
      "[[8 4 5]\n",
      " [5 9 4]\n",
      " [1 4 6]]\n",
      "[[2 5 8]\n",
      " [3 8 8]\n",
      " [5 4 4]]\n",
      "Multiplication of two matrices are : \n",
      "[[16 20 40]\n",
      " [15 72 32]\n",
      " [ 5 16 24]]\n"
     ]
    }
   ],
   "source": [
    "x =  np.random.randint(1,10,(3,3))\n",
    "y = np.random.randint(1, 10, (3,3))\n",
    "print(x)\n",
    "print(y)\n",
    "multiply = np.multiply(x,y)\n",
    "print(\"Multiplication of two matrices are : \")\n",
    "print(multiply)"
   ]
  },
  {
   "cell_type": "markdown",
   "metadata": {},
   "source": [
    "Dot"
   ]
  },
  {
   "cell_type": "code",
   "execution_count": 20,
   "metadata": {},
   "outputs": [
    {
     "name": "stdout",
     "output_type": "stream",
     "text": [
      "[[6 5 3]\n",
      " [6 2 3]\n",
      " [6 6 3]]\n",
      "[[4 8 7]\n",
      " [1 2 1]\n",
      " [7 2 8]]\n",
      "Dot of product : \n",
      "[[50 64 71]\n",
      " [47 58 68]\n",
      " [51 66 72]]\n"
     ]
    }
   ],
   "source": [
    "x =  np.random.randint(1,10,(3,3))\n",
    "y = np.random.randint(1, 10, (3,3))\n",
    "print(x)\n",
    "print(y)\n",
    "\n",
    "dot = np.dot(x,y)\n",
    "print(\"Dot of product : \")\n",
    "print(dot)"
   ]
  },
  {
   "cell_type": "markdown",
   "metadata": {},
   "source": [
    "Q2. Perform the following set operations using the Numpy functions.\n"
   ]
  },
  {
   "cell_type": "markdown",
   "metadata": {},
   "source": [
    "UNION"
   ]
  },
  {
   "cell_type": "code",
   "execution_count": 11,
   "metadata": {},
   "outputs": [
    {
     "name": "stdout",
     "output_type": "stream",
     "text": [
      "[1 2 3 4 5] [ 7  4  3  2 10]\n",
      "Union :  [ 1  2  3  4  5  7 10]\n"
     ]
    }
   ],
   "source": [
    "set1 = np.array([1,2,3,4,5])\n",
    "set2 = np.array([7,4,3,2,10,])\n",
    "print(set1,set2)\n",
    "result = np.union1d(set1,set2)\n",
    "print(\"Union : \", result)"
   ]
  },
  {
   "cell_type": "markdown",
   "metadata": {},
   "source": [
    "INTERSECTION"
   ]
  },
  {
   "cell_type": "code",
   "execution_count": 10,
   "metadata": {},
   "outputs": [
    {
     "name": "stdout",
     "output_type": "stream",
     "text": [
      "[1 2 3 4 5] [ 7  4  3  2 10]\n",
      "Intersection [2 3 4]\n"
     ]
    }
   ],
   "source": [
    "set1 = np.array([1,2,3,4,5])\n",
    "set2 = np.array([7,4,3,2,10,])\n",
    "print(set1,set2)\n",
    "result = np.intersect1d(set1,set2)\n",
    "print(\"Intersection :\" , result)"
   ]
  },
  {
   "cell_type": "markdown",
   "metadata": {},
   "source": [
    "SET DIFFERENCE"
   ]
  },
  {
   "cell_type": "code",
   "execution_count": 12,
   "metadata": {},
   "outputs": [
    {
     "name": "stdout",
     "output_type": "stream",
     "text": [
      "[1 2 3 4 5] [ 7  4  3  2 10]\n",
      "Set Difference : [1 5]\n"
     ]
    }
   ],
   "source": [
    "set1 = np.array([1,2,3,4,5])\n",
    "set2 = np.array([7,4,3,2,10,])\n",
    "print(set1,set2)\n",
    "result = np.setdiff1d(set1,set2)\n",
    "print(\"Set Difference :\" , result)"
   ]
  },
  {
   "cell_type": "markdown",
   "metadata": {},
   "source": [
    "XOR\n"
   ]
  },
  {
   "cell_type": "code",
   "execution_count": 21,
   "metadata": {},
   "outputs": [
    {
     "name": "stdout",
     "output_type": "stream",
     "text": [
      "[1 2 3 4 5] [ 7  4  3  2 10]\n",
      "XOR : [ 1  5  7 10]\n"
     ]
    }
   ],
   "source": [
    "set1 = np.array([1,2,3,4,5])\n",
    "set2 = np.array([7,4,3,2,10,])\n",
    "print(set1, set2)\n",
    "result = np.setxor1d(set1,set2)\n",
    "print(\"XOR :\" , result)"
   ]
  },
  {
   "cell_type": "markdown",
   "metadata": {},
   "source": [
    "Q3. Create a 1D array using Random function and perform the following operations.\n"
   ]
  },
  {
   "cell_type": "markdown",
   "metadata": {},
   "source": [
    "CUMULATIVE SUM"
   ]
  },
  {
   "cell_type": "code",
   "execution_count": 23,
   "metadata": {},
   "outputs": [
    {
     "name": "stdout",
     "output_type": "stream",
     "text": [
      "Original Array :  [3 8 6 7 1 9 2 3 2 4]\n",
      "Cumulative sum :  [ 3 11 17 24 25 34 36 39 41 45]\n"
     ]
    }
   ],
   "source": [
    "arr1 = np.random.randint(1,10,size=10)\n",
    "print(\"Original Array : \", arr1)\n",
    "\n",
    "cumulative_sum = np.cumsum(arr1)\n",
    "print(\"Cumulative sum : \", cumulative_sum)"
   ]
  },
  {
   "cell_type": "markdown",
   "metadata": {},
   "source": [
    "CUMULATIVE PRODUCT"
   ]
  },
  {
   "cell_type": "code",
   "execution_count": 25,
   "metadata": {},
   "outputs": [
    {
     "name": "stdout",
     "output_type": "stream",
     "text": [
      "Original Array :  [4 7 2 3 1 6 9 5 3 7]\n",
      "Cumulative product :  [     4     28     56    168    168   1008   9072  45360 136080 952560]\n"
     ]
    }
   ],
   "source": [
    "arr1 = np.random.randint(1,10,size=10)\n",
    "print(\"Original Array : \", arr1)\n",
    "\n",
    "cumulative_prod = np.cumprod(arr1)\n",
    "print(\"Cumulative product : \",cumulative_prod)"
   ]
  },
  {
   "cell_type": "markdown",
   "metadata": {},
   "source": [
    " Discrete difference (with n=3)"
   ]
  },
  {
   "cell_type": "code",
   "execution_count": 29,
   "metadata": {},
   "outputs": [
    {
     "name": "stdout",
     "output_type": "stream",
     "text": [
      "Original Array :  [5 6 7 7 6 2 3 2 7 3]\n",
      "Cumulative product :  [ -1   0  -2   8  -7   8 -15]\n"
     ]
    }
   ],
   "source": [
    "arr1 = np.random.randint(1,10,size=10)\n",
    "print(\"Original Array : \", arr1)\n",
    "\n",
    "discrete_diff = np.diff(arr1,n=3)\n",
    "print(\"Cumulative product : \",discrete_diff)"
   ]
  },
  {
   "cell_type": "markdown",
   "metadata": {},
   "source": [
    " Find the unique elements from the array"
   ]
  },
  {
   "cell_type": "code",
   "execution_count": 27,
   "metadata": {},
   "outputs": [
    {
     "name": "stdout",
     "output_type": "stream",
     "text": [
      "Original Array :  [3 5 1 8 3 9 7 7 5 3]\n",
      "Cumulative product :  [1 3 5 7 8 9]\n"
     ]
    }
   ],
   "source": [
    "arr1 = np.random.randint(1,10,size=10)\n",
    "print(\"Original Array : \", arr1)\n",
    "\n",
    "unique = np.unique(arr1)\n",
    "print(\"Cumulative product : \",unique)"
   ]
  },
  {
   "cell_type": "markdown",
   "metadata": {},
   "source": [
    "Q4. Create two 1D array and perform the Addition using zip(), add() and user defined function (frompyfunc())"
   ]
  },
  {
   "cell_type": "code",
   "execution_count": 33,
   "metadata": {},
   "outputs": [
    {
     "name": "stdout",
     "output_type": "stream",
     "text": [
      "Addition using zip() :  [11, 22, 33, 44, 55]\n",
      "Addition using np.add() :  [11 22 33 44 55]\n",
      "Addition using user defined function :  [11 22 33 44 55]\n"
     ]
    }
   ],
   "source": [
    "array1 = np.array([1,2,3,4,5])\n",
    "array2 = np.array([10,20,30,40,50])\n",
    "\n",
    "result = [x + y for x,y in zip(array1,array2)]\n",
    "print(\"Addition using zip() : \", result)\n",
    "\n",
    "add  = np.add(array1,array2)\n",
    "print(\"Addition using np.add() : \", add)\n",
    "\n",
    "def custom_add(x,y):\n",
    "    return x+y\n",
    "\n",
    "ufunc = np.frompyfunc(custom_add,2,1)\n",
    "res = ufunc(array1,array2)\n",
    "print(\"Addition using user defined function : \",res)\n"
   ]
  },
  {
   "cell_type": "markdown",
   "metadata": {},
   "source": [
    "Q5. Find the LCM (Least Common Multiple) and GCD (Greatest Common Divisor) of an array of elements using reduce()"
   ]
  },
  {
   "cell_type": "code",
   "execution_count": 36,
   "metadata": {},
   "outputs": [
    {
     "name": "stdout",
     "output_type": "stream",
     "text": [
      "LCM of elements: 144\n",
      "GCD of elements: 2\n"
     ]
    }
   ],
   "source": [
    "from numpy import gcd, lcm\n",
    "from functools import reduce\n",
    "\n",
    "elements = np.array([16, 18, 24, 36])\n",
    "\n",
    "lcm_result = reduce(lcm, elements)\n",
    "print(\"LCM of elements:\", lcm_result)\n",
    "\n",
    "gcd_result = reduce(gcd, elements)\n",
    "print(\"GCD of elements:\", gcd_result)"
   ]
  }
 ],
 "metadata": {
  "kernelspec": {
   "display_name": "Python 3",
   "language": "python",
   "name": "python3"
  },
  "language_info": {
   "codemirror_mode": {
    "name": "ipython",
    "version": 3
   },
   "file_extension": ".py",
   "mimetype": "text/x-python",
   "name": "python",
   "nbconvert_exporter": "python",
   "pygments_lexer": "ipython3",
   "version": "3.10.2"
  },
  "orig_nbformat": 4
 },
 "nbformat": 4,
 "nbformat_minor": 2
}
