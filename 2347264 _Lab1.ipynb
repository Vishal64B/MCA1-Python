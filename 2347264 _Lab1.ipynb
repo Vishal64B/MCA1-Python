{
 "cells": [
  {
   "cell_type": "markdown",
   "metadata": {},
   "source": [
    "1. Write a paragraph about introducing you and your selected domain (include Full Name, domain name, register number, year …….).\n",
    "Write a python program to count the frequency of any specific word (in your domain) in the paragraph.\n"
   ]
  },
  {
   "cell_type": "code",
   "execution_count": null,
   "metadata": {},
   "outputs": [],
   "source": []
  },
  {
   "cell_type": "code",
   "execution_count": 3,
   "metadata": {},
   "outputs": [
    {
     "name": "stdout",
     "output_type": "stream",
     "text": [
      "Hello, I am Vishal Kalita, currently pursuing my Master of Computer Applications with a project focused on Personal expense tracker. My Registration Number is 2347264. Studying in 1st year 2023.\n",
      "The count of \"my\" = 2\n"
     ]
    }
   ],
   "source": [
    "### Program 1\n",
    "\n",
    "name = \"Vishal Kalita\"\n",
    "domain = \"Personal expense tracker\"\n",
    "registrationNumber = 2347264\n",
    "\n",
    "\n",
    "paragraph = f'Hello, I am {name}, currently pursuing my Master of Computer Applications with a project focused on {domain}. My Registration Number is {registrationNumber}. Studying in 1st year 2023.'\n",
    "\n",
    "print(paragraph)\n",
    "words = paragraph.split()\n",
    "# print(words)\n",
    "\n",
    "count = 0\n",
    "frequency = input(\"Enter the word whose frequency you want: \")\n",
    "\n",
    "for word in words:\n",
    "    if word.lower().strip(',.') == frequency.lower().strip(',.'):\n",
    "        count +=1\n",
    "print(f'The count of \"{frequency}\" = {count}')\n",
    "\n"
   ]
  },
  {
   "cell_type": "markdown",
   "metadata": {},
   "source": [
    "2. Write a python program to display all the datatypes of selected specific elements in the paragraph. (For example:– name - string, reg.no - int, marks - float, etc.)\n"
   ]
  },
  {
   "cell_type": "code",
   "execution_count": 7,
   "metadata": {},
   "outputs": [
    {
     "name": "stdout",
     "output_type": "stream",
     "text": [
      "Hello - string\n",
      "I - string\n",
      "am - string\n",
      "Vishal - string\n",
      "Kalita - string\n",
      "currently - string\n",
      "pursuing - string\n",
      "my - string\n",
      "Master - string\n",
      "of - string\n",
      "Computer - string\n",
      "Applications - string\n",
      "with - string\n",
      "a - string\n",
      "project - string\n",
      "focused - string\n",
      "on - string\n",
      "Personal - string\n",
      "expense - string\n",
      "tracker - string\n",
      "My - string\n",
      "Registration - string\n",
      "Number - string\n",
      "is - string\n",
      "2347264 - int\n",
      "Studying - string\n",
      "in - string\n",
      "1st - string\n",
      "year - string\n",
      "2023 - int\n"
     ]
    }
   ],
   "source": [
    "### Program 2\n",
    "\n",
    "def data_Type(word):\n",
    "    try:\n",
    "        int(word)\n",
    "        return \"int\"\n",
    "    except ValueError:\n",
    "        return \"string\"\n",
    "\n",
    "\n",
    "name = \"Vishal Kalita\"\n",
    "domain = \"Personal expense tracker\"\n",
    "registrationNumber = 2347264\n",
    "\n",
    "\n",
    "paragraph = f'Hello, I am {name}, currently pursuing my Master of Computer Applications with a project focused on {domain}. My Registration Number is {registrationNumber}. Studying in 1st year 2023.'\n",
    "words = paragraph.split()\n",
    "\n",
    "for word in words:\n",
    "    word = word.strip(',.')\n",
    "    print(f'{word} - {data_Type(word)}')\n"
   ]
  },
  {
   "cell_type": "markdown",
   "metadata": {},
   "source": [
    "3. Write a python program to count the number of alphabets, numeric and other special symbols in the paragraph."
   ]
  },
  {
   "cell_type": "code",
   "execution_count": 8,
   "metadata": {},
   "outputs": [
    {
     "name": "stdout",
     "output_type": "stream",
     "text": [
      "Alphabets = 148\n",
      "Numeric = 12\n",
      "Special = 5\n"
     ]
    }
   ],
   "source": [
    "###     Program 3\n",
    "\n",
    "name = \"Vishal Kalita\"\n",
    "domain = \"Personal expense tracker\"\n",
    "registrationNumber = 2347264\n",
    "\n",
    "\n",
    "paragraph = f'Hello, I am {name}, currently pursuing my Master of Computer Applications with a project focused on {domain}. My Registration Number is {registrationNumber}. Studying in 1st year 2023.'\n",
    "\n",
    "# words = paragraph.split()\n",
    "\n",
    "alphabet, num, special_ch = 0,0,0\n",
    "\n",
    "for x in paragraph:\n",
    "    if x.isalpha():\n",
    "        alphabet+=1\n",
    "    elif x.isdigit(): \n",
    "        num+=1\n",
    "    elif not x.isspace():\n",
    "        special_ch+=1\n",
    "\n",
    "\n",
    "print(f'Alphabets = {alphabet}')\n",
    "print(f'Numeric = {num}')\n",
    "print(f'Special = {special_ch}')"
   ]
  },
  {
   "cell_type": "markdown",
   "metadata": {},
   "source": [
    "4. \tCreate a Set with elements that consists of various data types (int, float, string, Boolean, etc. from your domain) and perform the functions pop(), clear(), discard() and del. Write the insights as docstring.\n",
    "\n"
   ]
  },
  {
   "cell_type": "code",
   "execution_count": 10,
   "metadata": {},
   "outputs": [
    {
     "name": "stdout",
     "output_type": "stream",
     "text": [
      "{True, 'Clothing', 'Vishal', 123456677, 5500.0}\n"
     ]
    }
   ],
   "source": [
    "###     Program 4\n",
    "\n",
    "#Declaring the set for domain-- Finance Management (Expense tracker)\n",
    "\n",
    "#expense_set = { name, email, contact, expense_category, Transaction_amount, tracking_expense}\n",
    "expense_set = {\"Vishal\",\"vishal@gmail.com\",123456677, \"Clothing\", 5500.00,True}\n",
    "\n",
    "#Pop(): removes any random item from set\n",
    "expense_set = {\"Vishal\",\"vishal@gmail.com\",123456677, \"Clothing\", 5500.00,True}\n",
    "expense_set.pop()\n",
    "print(expense_set)"
   ]
  },
  {
   "cell_type": "code",
   "execution_count": 11,
   "metadata": {},
   "outputs": [
    {
     "name": "stdout",
     "output_type": "stream",
     "text": [
      "set()\n"
     ]
    }
   ],
   "source": [
    "#clear(): will remove all the elements from the set\n",
    "expense_set = {\"Vishal\",\"vishal@gmail.com\",123456677, \"Clothing\", 5500.00,True}\n",
    "expense_set.clear()\n",
    "print(expense_set)"
   ]
  },
  {
   "cell_type": "code",
   "execution_count": 12,
   "metadata": {},
   "outputs": [
    {
     "name": "stdout",
     "output_type": "stream",
     "text": [
      "Discarding set : {'vishal@gmail.com', True, 'Vishal', 123456677, 5500.0}\n"
     ]
    }
   ],
   "source": [
    "#discard(): removes the specified item from the set. also it does not throw any error if the item does not exist in the set\n",
    "\n",
    "expense_set = {\"Vishal\",\"vishal@gmail.com\",123456677, \"Clothing\", 5500.00,True}\n",
    "expense_set.discard(\"Clothing\")\n",
    "print(f'Discarding set : {expense_set}')"
   ]
  },
  {
   "cell_type": "code",
   "execution_count": 14,
   "metadata": {},
   "outputs": [
    {
     "name": "stdout",
     "output_type": "stream",
     "text": [
      "{'vishal@gmail.com', True, 'Clothing', 'Vishal', 123456677, 5500.0}\n"
     ]
    },
    {
     "ename": "NameError",
     "evalue": "name 'expense_set' is not defined",
     "output_type": "error",
     "traceback": [
      "\u001b[1;31m---------------------------------------------------------------------------\u001b[0m",
      "\u001b[1;31mNameError\u001b[0m                                 Traceback (most recent call last)",
      "Cell \u001b[1;32mIn[14], line 7\u001b[0m\n\u001b[0;32m      3\u001b[0m \u001b[39mprint\u001b[39m(expense_set)\n\u001b[0;32m      6\u001b[0m \u001b[39mdel\u001b[39;00m(expense_set)\n\u001b[1;32m----> 7\u001b[0m \u001b[39mprint\u001b[39m(expense_set)   \u001b[39m##This will show an error as we have deleted the expense_set\u001b[39;00m\n",
      "\u001b[1;31mNameError\u001b[0m: name 'expense_set' is not defined"
     ]
    }
   ],
   "source": [
    "#del(): Deletes the expense_set,  if we try to print expense_set it will throw an error\n",
    "expense_set = {\"Vishal\",\"vishal@gmail.com\",123456677, \"Clothing\", 5500.00,True}\n",
    "print(expense_set)\n",
    "\n",
    "\n",
    "del(expense_set)\n",
    "print(expense_set)   ##This will show an error as we have deleted the expense_set"
   ]
  },
  {
   "cell_type": "markdown",
   "metadata": {},
   "source": [
    "5. Update the Set with minimum 5 string attributes of your domain and arrange the Set in descending order.\n"
   ]
  },
  {
   "cell_type": "code",
   "execution_count": 15,
   "metadata": {},
   "outputs": [
    {
     "name": "stdout",
     "output_type": "stream",
     "text": [
      "{'vishal@gmail.com', 'Vishal', 'Male', 'Kalita', 'Groceries'}\n",
      "{'vishal@gmail.com', 'Groceries', 'Vishal', 'Male', 'Kalita'}\n"
     ]
    }
   ],
   "source": [
    "####    Program 5\n",
    "\n",
    "empty_set = set()\n",
    "\n",
    "expense_set = { \"Vishal\", \"Kalita\",\"vishal@gmail.com\",\"Groceries\",\"Male\"}\n",
    "\n",
    "empty_set.update(expense_set)\n",
    "\n",
    "print(empty_set)\n",
    "\n",
    "#Arranging in Descending Order\n",
    "\n",
    "desc_list = sorted(empty_set, reverse = True)\n",
    "print(set(desc_list))"
   ]
  },
  {
   "cell_type": "markdown",
   "metadata": {},
   "source": [
    "6. Create a Tuple and Execute the packing and unpacking operations of tuples using the attributes of your domain.\n"
   ]
  },
  {
   "cell_type": "code",
   "execution_count": 16,
   "metadata": {},
   "outputs": [
    {
     "name": "stdout",
     "output_type": "stream",
     "text": [
      "name = Vishal\n",
      "email = vishal@gmail.com\n",
      "number = 123456677\n",
      "expense_category = Clothing\n",
      "Transaction = 5500.0\n",
      "expense_added = True\n"
     ]
    }
   ],
   "source": [
    "###     Program 6\n",
    "\n",
    "expense_set = [\"Vishal\",\"vishal@gmail.com\",123456677, \"Clothing\", 5500.00,True]\n",
    "\n",
    "name, email, number , expense_category, Transaction_amount, expense_added = expense_set\n",
    "\n",
    "print(f'name = {name}')\n",
    "print(f'email = {email}')\n",
    "print(f'number = {number}')\n",
    "print(f'expense_category = {expense_category}')\n",
    "print(f'Transaction = {Transaction_amount}')\n",
    "print(f'expense_added = {expense_added}')"
   ]
  },
  {
   "cell_type": "markdown",
   "metadata": {},
   "source": [
    "7. \tEnter your domain name as characters and count any number of characters and print the count (for example – (‘p’,’r’,’o’,’g’,’r’,’a’,’m’) count of ‘r’ = 2)\n"
   ]
  },
  {
   "cell_type": "code",
   "execution_count": 22,
   "metadata": {},
   "outputs": [
    {
     "name": "stdout",
     "output_type": "stream",
     "text": [
      "frequency of \"t\" = 2\n"
     ]
    }
   ],
   "source": [
    "###     Program 7\n",
    "\n",
    "\n",
    "domain = \"Finance Management (expense tracker)\"\n",
    "\n",
    "count = 0\n",
    "frequency = input(\"Enter the character : \")\n",
    "\n",
    "for x in domain:\n",
    "    if x.lower() == frequency.lower():\n",
    "        count+=1\n",
    "\n",
    "print(f'frequency of \"{frequency}\" = {count}')\n"
   ]
  },
  {
   "cell_type": "markdown",
   "metadata": {},
   "source": [
    "8. Enter your domain name, execute all the slicing possibilities and also negative indexing.\n"
   ]
  },
  {
   "cell_type": "code",
   "execution_count": 32,
   "metadata": {},
   "outputs": [
    {
     "name": "stdout",
     "output_type": "stream",
     "text": [
      "\t\t\tPositive Slicing\n",
      "Characters from index 1 to 5 : xpen\n",
      "Characters from index 0 to 5 : Expen\n",
      "Characters from index 1 to end index : xpense Tracker\n",
      "Characters from index 0 to end index : Expense Tracker\n",
      "\t\tNegative Slicing\n",
      "Characters from index -7 to -1 : Tracke\n",
      "Characters from index 0 to all except the last: Expense Tracke\n",
      "\t\tNegative Step\n",
      "Reversing the string : rekcarT esnepxE\n"
     ]
    }
   ],
   "source": [
    "###     Program 8\n",
    "\n",
    "domain = input(\"Enter your domain here : \")\n",
    "# print(domain)\n",
    "\n",
    "print(\"\\t\\t\\tPositive Slicing\")\n",
    "print(f'Characters from index 1 to 5 : {domain[1:5]}')\n",
    "print(f'Characters from index 0 to 5 : {domain[:5]}')\n",
    "print(f'Characters from index 1 to end index : {domain[1:]}')\n",
    "print(f'Characters from index 0 to end index : {domain[:]}')\n",
    "\n",
    "#### NEGATIVE SLICING\n",
    "\n",
    "print(\"\\t\\tNegative Slicing\")\n",
    "print(f'Characters from index -7 to -1 : {domain[-7:-1]}')\n",
    "print(f'Characters from index 0 to all except the last: {domain[:-1]}')\n",
    "\n",
    "\n",
    "##NEGAIVE STEP\n",
    "\n",
    "print(\"\\t\\tNegative Step\")\n",
    "print(f'Reversing the string : {domain[::-1]}')"
   ]
  }
 ],
 "metadata": {
  "kernelspec": {
   "display_name": "Python 3",
   "language": "python",
   "name": "python3"
  },
  "language_info": {
   "codemirror_mode": {
    "name": "ipython",
    "version": 3
   },
   "file_extension": ".py",
   "mimetype": "text/x-python",
   "name": "python",
   "nbconvert_exporter": "python",
   "pygments_lexer": "ipython3",
   "version": "3.10.2"
  },
  "orig_nbformat": 4
 },
 "nbformat": 4,
 "nbformat_minor": 2
}
